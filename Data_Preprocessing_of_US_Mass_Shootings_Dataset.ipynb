{
  "nbformat": 4,
  "nbformat_minor": 0,
  "metadata": {
    "colab": {
      "provenance": []
    },
    "kernelspec": {
      "name": "python3",
      "display_name": "Python 3"
    },
    "language_info": {
      "name": "python"
    }
  },
  "cells": [
    {
      "cell_type": "markdown",
      "source": [
        "# Data Visualization of US Mass Shootings between 1982 to 2022\n",
        "\n",
        "1. About the dataset: \n",
        "\n",
        "    Since the Second Amendment to the Constitution of the United States guarantees the right of American citizens to bear arms, in the United States, citizens not only have the right to bear arms, but also can trade guns. But at the same time, the United States also has one of the highest rates of shootings in the world. The United States Congress passed an Act on Violent Crimes in 2003 (The Investigative Assistance for Violent Crimes Act of 2012), which stated: A mass killing is a case in which at least three people are killed in addition to the killers themselves. This dataset contains data on mass shootings in the United States over a 40-year period from 1982 to 2022. We believe that by analyzing these datasets, risk assessment, incident prevention, and incident response can be improved to reduce the incidence of tragedy.\n",
        "    \n",
        "2. Data source:\n",
        "The data was downloaded from kaggle, the link of the data source is as follows:\n",
        "https://www.kaggle.com/datasets/zusmani/us-mass-shootings-last-50-years"
      ],
      "metadata": {
        "id": "H23kNNkSUq67"
      }
    },
    {
      "cell_type": "markdown",
      "source": [
        "# Problems definition:\n",
        "\n",
        "**First module:**\n",
        "1. The overall trend of mass shooting incidents in America\n",
        "\n",
        "2. Numbers of Total Victims of Mass Shooting case in America\n",
        "\n",
        "3. Numbers of mass shooting incidents by states\n",
        "\n",
        "**Second module:**\n",
        "4. Where are the most common shooting locations in the most frequent shooting states?\n",
        "5. Specific analysis of frequent shooting locations:\n",
        "\n",
        " 5.1 Workplace\n",
        "\n",
        " 5.2 School\n",
        "\n",
        " 5.3 Religious\n",
        "\n",
        " 5.4 Comparison and overview of three shooting-prone places\n",
        "\n",
        "\n",
        "**Third module:**\n",
        "6. Conclusion\n",
        " "
      ],
      "metadata": {
        "id": "UY9zlXyactjF"
      }
    },
    {
      "cell_type": "markdown",
      "source": [
        "# 0.  Download the dataset"
      ],
      "metadata": {
        "id": "Lp49Cjw_U8OU"
      }
    },
    {
      "cell_type": "code",
      "source": [
        "from google.colab import drive\n",
        "drivePath = '/content/drive' #please do not change\n",
        "drive.mount(drivePath)"
      ],
      "metadata": {
        "colab": {
          "base_uri": "https://localhost:8080/"
        },
        "id": "uPvjAr9oU3GJ",
        "outputId": "1d81bf3d-3a1a-4329-839f-fbedbf884864"
      },
      "execution_count": null,
      "outputs": [
        {
          "output_type": "stream",
          "name": "stdout",
          "text": [
            "Mounted at /content/drive\n"
          ]
        }
      ]
    },
    {
      "cell_type": "code",
      "execution_count": null,
      "metadata": {
        "colab": {
          "base_uri": "https://localhost:8080/"
        },
        "id": "tBvMcxFXUcu_",
        "outputId": "3619fb16-fc63-4bcd-fab4-79ce9a392f1e"
      },
      "outputs": [
        {
          "output_type": "stream",
          "name": "stdout",
          "text": [
            "Looking in indexes: https://pypi.org/simple, https://us-python.pkg.dev/colab-wheels/public/simple/\n",
            "Collecting wget\n",
            "  Downloading wget-3.2.zip (10 kB)\n",
            "  Preparing metadata (setup.py) ... \u001b[?25l\u001b[?25hdone\n",
            "Building wheels for collected packages: wget\n",
            "  Building wheel for wget (setup.py) ... \u001b[?25l\u001b[?25hdone\n",
            "  Created wheel for wget: filename=wget-3.2-py3-none-any.whl size=9676 sha256=a648dae53557876f0e97fc01b207f9e6446509af6ad14ac332d977d05575feee\n",
            "  Stored in directory: /root/.cache/pip/wheels/04/5f/3e/46cc37c5d698415694d83f607f833f83f0149e49b3af9d0f38\n",
            "Successfully built wget\n",
            "Installing collected packages: wget\n",
            "Successfully installed wget-3.2\n"
          ]
        }
      ],
      "source": [
        "# Install the library on your environment\n",
        "!pip install wget"
      ]
    },
    {
      "cell_type": "code",
      "source": [
        "# Import the library\n",
        "import wget\n",
        "\n",
        "# Setup URL and path variables\n",
        "baseURL = 'https://raw.githubusercontent.com/HardCoreFatLady/US-Mass-Shootings/main/'       # github raw file \n",
        "doc = 'US Mass Shootings May 24 2022.csv'\n",
        "fullURL = baseURL + doc\n",
        "\n",
        "dataPath = drivePath + '/MyDrive/Colab Notebooks/data'\n",
        "\n",
        "# Download the file\n",
        "fileName = wget.download(fullURL, out = dataPath)\n",
        "\n",
        "# Print the file name including the local path\n",
        "print(fileName)"
      ],
      "metadata": {
        "colab": {
          "base_uri": "https://localhost:8080/"
        },
        "id": "B1a-3rzIU-oE",
        "outputId": "c0a166d8-bffc-48dd-bdce-bc432dc5c77e"
      },
      "execution_count": null,
      "outputs": [
        {
          "output_type": "stream",
          "name": "stdout",
          "text": [
            "/content/drive/MyDrive/Colab Notebooks/data/US Mass Shootings May 24 2022 (1).csv\n"
          ]
        }
      ]
    },
    {
      "cell_type": "code",
      "source": [
        "import pandas as pd\n",
        "import numpy as np\n",
        "\n",
        "#Load the CSV into a Pandas dataframe\n",
        "data = pd.read_csv(fileName, encoding='UTF-8')\n",
        "data.head()"
      ],
      "metadata": {
        "colab": {
          "base_uri": "https://localhost:8080/",
          "height": 557
        },
        "id": "M5HlK44pVAY7",
        "outputId": "1e77753d-5c31-485c-f0af-8acf98e3807d"
      },
      "execution_count": null,
      "outputs": [
        {
          "output_type": "execute_result",
          "data": {
            "text/plain": [
              "                                case                location        date  \\\n",
              "0  Uvalde elementary school massacre           Uvalde, Texas   5/24/2022   \n",
              "1       Buffalo supermarket massacre       Buffalo, New York   5/14/2022   \n",
              "2  Sacramento County church shooting  Sacramento, California   2/28/2022   \n",
              "3        Oxford High School shooting        Oxford, Michigan  11/30/2021   \n",
              "4              San Jose VTA shooting    San Jose, California   5/26/2021   \n",
              "\n",
              "                                             summary  fatalities injured  \\\n",
              "0                                    DETAILS PENDING          15       -   \n",
              "1  Payton S. Gendron, 18, committed a racially mo...          10       3   \n",
              "2  \"A man believed to be meeting his three childr...           4       0   \n",
              "3  Ethan Crumbley, a 15-year-old student at Oxfor...           4       7   \n",
              "4  Samuel Cassidy, 57, a Valley Transportation Au...           9       0   \n",
              "\n",
              "  total_victims incident_location age_of_shooter  \\\n",
              "0             -            School             18   \n",
              "1            13         workplace             18   \n",
              "2             4         Religious              -   \n",
              "3            11            School             15   \n",
              "4             9         Workplace             57   \n",
              "\n",
              "  prior_signs_mental_health_issues  \\\n",
              "0                                -   \n",
              "1                              yes   \n",
              "2                                -   \n",
              "3                                -   \n",
              "4                              yes   \n",
              "\n",
              "                               mental_health_details weapons_obtained_legally  \\\n",
              "0                                                  -                        -   \n",
              "1  previous threats and a mental health evaluatio...                      yes   \n",
              "2                                                  -                        -   \n",
              "3                                                  -                        -   \n",
              "4  Perpetrator had a history of depression, angry...                        -   \n",
              "\n",
              "  where_obtained             weapon_type  \\\n",
              "0              -                       -   \n",
              "1              -     semiautomatic rifle   \n",
              "2              -                       -   \n",
              "3              -   semiautomatic handgun   \n",
              "4              -  semiautomatic handguns   \n",
              "\n",
              "                         weapon_details   race gender  type  year  \n",
              "0                                     -      -      M  Mass  2022  \n",
              "1  Bushmaster XM-15 semiautomatic rifle  White      M  Mass  2022  \n",
              "2                                     -      -      M  Mass  2022  \n",
              "3                  Sig Sauer 9mm pistol      -      M  Mass  2021  \n",
              "4                                     -      -      M  Mass  2021  "
            ],
            "text/html": [
              "\n",
              "  <div id=\"df-553764a3-15ad-4818-b329-e5797c1b164c\">\n",
              "    <div class=\"colab-df-container\">\n",
              "      <div>\n",
              "<style scoped>\n",
              "    .dataframe tbody tr th:only-of-type {\n",
              "        vertical-align: middle;\n",
              "    }\n",
              "\n",
              "    .dataframe tbody tr th {\n",
              "        vertical-align: top;\n",
              "    }\n",
              "\n",
              "    .dataframe thead th {\n",
              "        text-align: right;\n",
              "    }\n",
              "</style>\n",
              "<table border=\"1\" class=\"dataframe\">\n",
              "  <thead>\n",
              "    <tr style=\"text-align: right;\">\n",
              "      <th></th>\n",
              "      <th>case</th>\n",
              "      <th>location</th>\n",
              "      <th>date</th>\n",
              "      <th>summary</th>\n",
              "      <th>fatalities</th>\n",
              "      <th>injured</th>\n",
              "      <th>total_victims</th>\n",
              "      <th>incident_location</th>\n",
              "      <th>age_of_shooter</th>\n",
              "      <th>prior_signs_mental_health_issues</th>\n",
              "      <th>mental_health_details</th>\n",
              "      <th>weapons_obtained_legally</th>\n",
              "      <th>where_obtained</th>\n",
              "      <th>weapon_type</th>\n",
              "      <th>weapon_details</th>\n",
              "      <th>race</th>\n",
              "      <th>gender</th>\n",
              "      <th>type</th>\n",
              "      <th>year</th>\n",
              "    </tr>\n",
              "  </thead>\n",
              "  <tbody>\n",
              "    <tr>\n",
              "      <th>0</th>\n",
              "      <td>Uvalde elementary school massacre</td>\n",
              "      <td>Uvalde, Texas</td>\n",
              "      <td>5/24/2022</td>\n",
              "      <td>DETAILS PENDING</td>\n",
              "      <td>15</td>\n",
              "      <td>-</td>\n",
              "      <td>-</td>\n",
              "      <td>School</td>\n",
              "      <td>18</td>\n",
              "      <td>-</td>\n",
              "      <td>-</td>\n",
              "      <td>-</td>\n",
              "      <td>-</td>\n",
              "      <td>-</td>\n",
              "      <td>-</td>\n",
              "      <td>-</td>\n",
              "      <td>M</td>\n",
              "      <td>Mass</td>\n",
              "      <td>2022</td>\n",
              "    </tr>\n",
              "    <tr>\n",
              "      <th>1</th>\n",
              "      <td>Buffalo supermarket massacre</td>\n",
              "      <td>Buffalo, New York</td>\n",
              "      <td>5/14/2022</td>\n",
              "      <td>Payton S. Gendron, 18, committed a racially mo...</td>\n",
              "      <td>10</td>\n",
              "      <td>3</td>\n",
              "      <td>13</td>\n",
              "      <td>workplace</td>\n",
              "      <td>18</td>\n",
              "      <td>yes</td>\n",
              "      <td>previous threats and a mental health evaluatio...</td>\n",
              "      <td>yes</td>\n",
              "      <td>-</td>\n",
              "      <td>semiautomatic rifle</td>\n",
              "      <td>Bushmaster XM-15 semiautomatic rifle</td>\n",
              "      <td>White</td>\n",
              "      <td>M</td>\n",
              "      <td>Mass</td>\n",
              "      <td>2022</td>\n",
              "    </tr>\n",
              "    <tr>\n",
              "      <th>2</th>\n",
              "      <td>Sacramento County church shooting</td>\n",
              "      <td>Sacramento, California</td>\n",
              "      <td>2/28/2022</td>\n",
              "      <td>\"A man believed to be meeting his three childr...</td>\n",
              "      <td>4</td>\n",
              "      <td>0</td>\n",
              "      <td>4</td>\n",
              "      <td>Religious</td>\n",
              "      <td>-</td>\n",
              "      <td>-</td>\n",
              "      <td>-</td>\n",
              "      <td>-</td>\n",
              "      <td>-</td>\n",
              "      <td>-</td>\n",
              "      <td>-</td>\n",
              "      <td>-</td>\n",
              "      <td>M</td>\n",
              "      <td>Mass</td>\n",
              "      <td>2022</td>\n",
              "    </tr>\n",
              "    <tr>\n",
              "      <th>3</th>\n",
              "      <td>Oxford High School shooting</td>\n",
              "      <td>Oxford, Michigan</td>\n",
              "      <td>11/30/2021</td>\n",
              "      <td>Ethan Crumbley, a 15-year-old student at Oxfor...</td>\n",
              "      <td>4</td>\n",
              "      <td>7</td>\n",
              "      <td>11</td>\n",
              "      <td>School</td>\n",
              "      <td>15</td>\n",
              "      <td>-</td>\n",
              "      <td>-</td>\n",
              "      <td>-</td>\n",
              "      <td>-</td>\n",
              "      <td>semiautomatic handgun</td>\n",
              "      <td>Sig Sauer 9mm pistol</td>\n",
              "      <td>-</td>\n",
              "      <td>M</td>\n",
              "      <td>Mass</td>\n",
              "      <td>2021</td>\n",
              "    </tr>\n",
              "    <tr>\n",
              "      <th>4</th>\n",
              "      <td>San Jose VTA shooting</td>\n",
              "      <td>San Jose, California</td>\n",
              "      <td>5/26/2021</td>\n",
              "      <td>Samuel Cassidy, 57, a Valley Transportation Au...</td>\n",
              "      <td>9</td>\n",
              "      <td>0</td>\n",
              "      <td>9</td>\n",
              "      <td>Workplace</td>\n",
              "      <td>57</td>\n",
              "      <td>yes</td>\n",
              "      <td>Perpetrator had a history of depression, angry...</td>\n",
              "      <td>-</td>\n",
              "      <td>-</td>\n",
              "      <td>semiautomatic handguns</td>\n",
              "      <td>-</td>\n",
              "      <td>-</td>\n",
              "      <td>M</td>\n",
              "      <td>Mass</td>\n",
              "      <td>2021</td>\n",
              "    </tr>\n",
              "  </tbody>\n",
              "</table>\n",
              "</div>\n",
              "      <button class=\"colab-df-convert\" onclick=\"convertToInteractive('df-553764a3-15ad-4818-b329-e5797c1b164c')\"\n",
              "              title=\"Convert this dataframe to an interactive table.\"\n",
              "              style=\"display:none;\">\n",
              "        \n",
              "  <svg xmlns=\"http://www.w3.org/2000/svg\" height=\"24px\"viewBox=\"0 0 24 24\"\n",
              "       width=\"24px\">\n",
              "    <path d=\"M0 0h24v24H0V0z\" fill=\"none\"/>\n",
              "    <path d=\"M18.56 5.44l.94 2.06.94-2.06 2.06-.94-2.06-.94-.94-2.06-.94 2.06-2.06.94zm-11 1L8.5 8.5l.94-2.06 2.06-.94-2.06-.94L8.5 2.5l-.94 2.06-2.06.94zm10 10l.94 2.06.94-2.06 2.06-.94-2.06-.94-.94-2.06-.94 2.06-2.06.94z\"/><path d=\"M17.41 7.96l-1.37-1.37c-.4-.4-.92-.59-1.43-.59-.52 0-1.04.2-1.43.59L10.3 9.45l-7.72 7.72c-.78.78-.78 2.05 0 2.83L4 21.41c.39.39.9.59 1.41.59.51 0 1.02-.2 1.41-.59l7.78-7.78 2.81-2.81c.8-.78.8-2.07 0-2.86zM5.41 20L4 18.59l7.72-7.72 1.47 1.35L5.41 20z\"/>\n",
              "  </svg>\n",
              "      </button>\n",
              "      \n",
              "  <style>\n",
              "    .colab-df-container {\n",
              "      display:flex;\n",
              "      flex-wrap:wrap;\n",
              "      gap: 12px;\n",
              "    }\n",
              "\n",
              "    .colab-df-convert {\n",
              "      background-color: #E8F0FE;\n",
              "      border: none;\n",
              "      border-radius: 50%;\n",
              "      cursor: pointer;\n",
              "      display: none;\n",
              "      fill: #1967D2;\n",
              "      height: 32px;\n",
              "      padding: 0 0 0 0;\n",
              "      width: 32px;\n",
              "    }\n",
              "\n",
              "    .colab-df-convert:hover {\n",
              "      background-color: #E2EBFA;\n",
              "      box-shadow: 0px 1px 2px rgba(60, 64, 67, 0.3), 0px 1px 3px 1px rgba(60, 64, 67, 0.15);\n",
              "      fill: #174EA6;\n",
              "    }\n",
              "\n",
              "    [theme=dark] .colab-df-convert {\n",
              "      background-color: #3B4455;\n",
              "      fill: #D2E3FC;\n",
              "    }\n",
              "\n",
              "    [theme=dark] .colab-df-convert:hover {\n",
              "      background-color: #434B5C;\n",
              "      box-shadow: 0px 1px 3px 1px rgba(0, 0, 0, 0.15);\n",
              "      filter: drop-shadow(0px 1px 2px rgba(0, 0, 0, 0.3));\n",
              "      fill: #FFFFFF;\n",
              "    }\n",
              "  </style>\n",
              "\n",
              "      <script>\n",
              "        const buttonEl =\n",
              "          document.querySelector('#df-553764a3-15ad-4818-b329-e5797c1b164c button.colab-df-convert');\n",
              "        buttonEl.style.display =\n",
              "          google.colab.kernel.accessAllowed ? 'block' : 'none';\n",
              "\n",
              "        async function convertToInteractive(key) {\n",
              "          const element = document.querySelector('#df-553764a3-15ad-4818-b329-e5797c1b164c');\n",
              "          const dataTable =\n",
              "            await google.colab.kernel.invokeFunction('convertToInteractive',\n",
              "                                                     [key], {});\n",
              "          if (!dataTable) return;\n",
              "\n",
              "          const docLinkHtml = 'Like what you see? Visit the ' +\n",
              "            '<a target=\"_blank\" href=https://colab.research.google.com/notebooks/data_table.ipynb>data table notebook</a>'\n",
              "            + ' to learn more about interactive tables.';\n",
              "          element.innerHTML = '';\n",
              "          dataTable['output_type'] = 'display_data';\n",
              "          await google.colab.output.renderOutput(dataTable, element);\n",
              "          const docLink = document.createElement('div');\n",
              "          docLink.innerHTML = docLinkHtml;\n",
              "          element.appendChild(docLink);\n",
              "        }\n",
              "      </script>\n",
              "    </div>\n",
              "  </div>\n",
              "  "
            ]
          },
          "metadata": {},
          "execution_count": 4
        }
      ]
    },
    {
      "cell_type": "markdown",
      "source": [
        "# 1. Perform data exploration and analysis on the dataset"
      ],
      "metadata": {
        "id": "Z0T5P3ogVCa6"
      }
    },
    {
      "cell_type": "markdown",
      "source": [
        "- **Examining the attributes of the Data Frame (standard procedures)**\n",
        "\n",
        "    df.shape (\"dim\" in R)\n",
        "\n",
        "    df.columns (check the variables, like \"names\" in R) \n",
        "\n",
        "    df.index (check the index of the \"rows\") \n",
        "\n",
        "    df.info()\n",
        "    \n",
        "    df.describe() (descriptive statistics for numerical variables) "
      ],
      "metadata": {
        "id": "DjDYJ_XBVEDO"
      }
    },
    {
      "cell_type": "code",
      "source": [
        "data.shape"
      ],
      "metadata": {
        "colab": {
          "base_uri": "https://localhost:8080/"
        },
        "id": "vzwco9Q7VFbg",
        "outputId": "4fc9e243-4c46-42b0-910c-9f0b8c11e0af"
      },
      "execution_count": null,
      "outputs": [
        {
          "output_type": "execute_result",
          "data": {
            "text/plain": [
              "(128, 19)"
            ]
          },
          "metadata": {},
          "execution_count": 5
        }
      ]
    },
    {
      "cell_type": "code",
      "source": [
        "a = data.columns\n",
        "for i in range(0, len(a)):\n",
        "  print('Name of Column',i+1,':',a[i])"
      ],
      "metadata": {
        "colab": {
          "base_uri": "https://localhost:8080/"
        },
        "id": "lXwMDFdTVGen",
        "outputId": "7370b542-e221-4a7a-dd70-7dee07fa1c40"
      },
      "execution_count": null,
      "outputs": [
        {
          "output_type": "stream",
          "name": "stdout",
          "text": [
            "Name of Column 1 : case\n",
            "Name of Column 2 : location\n",
            "Name of Column 3 : date\n",
            "Name of Column 4 : summary\n",
            "Name of Column 5 : fatalities\n",
            "Name of Column 6 : injured\n",
            "Name of Column 7 : total_victims\n",
            "Name of Column 8 : incident_location\n",
            "Name of Column 9 : age_of_shooter\n",
            "Name of Column 10 : prior_signs_mental_health_issues\n",
            "Name of Column 11 : mental_health_details\n",
            "Name of Column 12 : weapons_obtained_legally\n",
            "Name of Column 13 : where_obtained\n",
            "Name of Column 14 : weapon_type\n",
            "Name of Column 15 : weapon_details\n",
            "Name of Column 16 : race\n",
            "Name of Column 17 : gender\n",
            "Name of Column 18 : type\n",
            "Name of Column 19 : year\n"
          ]
        }
      ]
    },
    {
      "cell_type": "code",
      "source": [
        "data.index"
      ],
      "metadata": {
        "colab": {
          "base_uri": "https://localhost:8080/"
        },
        "id": "JP50OGvHVHWm",
        "outputId": "f82fd24e-22c4-4510-eb11-ed4fc522abdf"
      },
      "execution_count": null,
      "outputs": [
        {
          "output_type": "execute_result",
          "data": {
            "text/plain": [
              "RangeIndex(start=0, stop=128, step=1)"
            ]
          },
          "metadata": {},
          "execution_count": 7
        }
      ]
    },
    {
      "cell_type": "code",
      "source": [
        "data.isnull().sum()"
      ],
      "metadata": {
        "colab": {
          "base_uri": "https://localhost:8080/"
        },
        "id": "2wQvxJ8FVIXo",
        "outputId": "67e720fb-8ce7-48b0-da8d-15a1386df9f5"
      },
      "execution_count": null,
      "outputs": [
        {
          "output_type": "execute_result",
          "data": {
            "text/plain": [
              "case                                0\n",
              "location                            0\n",
              "date                                0\n",
              "summary                             0\n",
              "fatalities                          0\n",
              "injured                             0\n",
              "total_victims                       0\n",
              "incident_location                   0\n",
              "age_of_shooter                      0\n",
              "prior_signs_mental_health_issues    0\n",
              "mental_health_details               0\n",
              "weapons_obtained_legally            0\n",
              "where_obtained                      0\n",
              "weapon_type                         0\n",
              "weapon_details                      0\n",
              "race                                0\n",
              "gender                              0\n",
              "type                                0\n",
              "year                                0\n",
              "dtype: int64"
            ]
          },
          "metadata": {},
          "execution_count": 8
        }
      ]
    },
    {
      "cell_type": "code",
      "source": [
        "data.info()"
      ],
      "metadata": {
        "colab": {
          "base_uri": "https://localhost:8080/"
        },
        "id": "Y0p-HZ7hVJW6",
        "outputId": "e411914b-d919-43f4-c27b-6c2fbdc1bcf9"
      },
      "execution_count": null,
      "outputs": [
        {
          "output_type": "stream",
          "name": "stdout",
          "text": [
            "<class 'pandas.core.frame.DataFrame'>\n",
            "RangeIndex: 128 entries, 0 to 127\n",
            "Data columns (total 19 columns):\n",
            " #   Column                            Non-Null Count  Dtype \n",
            "---  ------                            --------------  ----- \n",
            " 0   case                              128 non-null    object\n",
            " 1   location                          128 non-null    object\n",
            " 2   date                              128 non-null    object\n",
            " 3   summary                           128 non-null    object\n",
            " 4   fatalities                        128 non-null    int64 \n",
            " 5   injured                           128 non-null    object\n",
            " 6   total_victims                     128 non-null    object\n",
            " 7   incident_location                 128 non-null    object\n",
            " 8   age_of_shooter                    128 non-null    object\n",
            " 9   prior_signs_mental_health_issues  128 non-null    object\n",
            " 10  mental_health_details             128 non-null    object\n",
            " 11  weapons_obtained_legally          128 non-null    object\n",
            " 12  where_obtained                    128 non-null    object\n",
            " 13  weapon_type                       128 non-null    object\n",
            " 14  weapon_details                    128 non-null    object\n",
            " 15  race                              128 non-null    object\n",
            " 16  gender                            128 non-null    object\n",
            " 17  type                              128 non-null    object\n",
            " 18  year                              128 non-null    int64 \n",
            "dtypes: int64(2), object(17)\n",
            "memory usage: 19.1+ KB\n"
          ]
        }
      ]
    },
    {
      "cell_type": "code",
      "source": [
        "data.describe()"
      ],
      "metadata": {
        "colab": {
          "base_uri": "https://localhost:8080/",
          "height": 297
        },
        "id": "FhE1ge1jVKbm",
        "outputId": "95d2b16b-a46f-454a-d23f-38c56d032e77"
      },
      "execution_count": null,
      "outputs": [
        {
          "output_type": "execute_result",
          "data": {
            "text/plain": [
              "       fatalities         year\n",
              "count  128.000000   128.000000\n",
              "mean     8.039062  2009.171875\n",
              "std      7.687194    10.603899\n",
              "min      3.000000  1982.000000\n",
              "25%      4.000000  2000.750000\n",
              "50%      6.000000  2013.000000\n",
              "75%      9.000000  2018.000000\n",
              "max     58.000000  2022.000000"
            ],
            "text/html": [
              "\n",
              "  <div id=\"df-6a8cc029-38ae-4fa9-9ac4-82846a98a4e5\">\n",
              "    <div class=\"colab-df-container\">\n",
              "      <div>\n",
              "<style scoped>\n",
              "    .dataframe tbody tr th:only-of-type {\n",
              "        vertical-align: middle;\n",
              "    }\n",
              "\n",
              "    .dataframe tbody tr th {\n",
              "        vertical-align: top;\n",
              "    }\n",
              "\n",
              "    .dataframe thead th {\n",
              "        text-align: right;\n",
              "    }\n",
              "</style>\n",
              "<table border=\"1\" class=\"dataframe\">\n",
              "  <thead>\n",
              "    <tr style=\"text-align: right;\">\n",
              "      <th></th>\n",
              "      <th>fatalities</th>\n",
              "      <th>year</th>\n",
              "    </tr>\n",
              "  </thead>\n",
              "  <tbody>\n",
              "    <tr>\n",
              "      <th>count</th>\n",
              "      <td>128.000000</td>\n",
              "      <td>128.000000</td>\n",
              "    </tr>\n",
              "    <tr>\n",
              "      <th>mean</th>\n",
              "      <td>8.039062</td>\n",
              "      <td>2009.171875</td>\n",
              "    </tr>\n",
              "    <tr>\n",
              "      <th>std</th>\n",
              "      <td>7.687194</td>\n",
              "      <td>10.603899</td>\n",
              "    </tr>\n",
              "    <tr>\n",
              "      <th>min</th>\n",
              "      <td>3.000000</td>\n",
              "      <td>1982.000000</td>\n",
              "    </tr>\n",
              "    <tr>\n",
              "      <th>25%</th>\n",
              "      <td>4.000000</td>\n",
              "      <td>2000.750000</td>\n",
              "    </tr>\n",
              "    <tr>\n",
              "      <th>50%</th>\n",
              "      <td>6.000000</td>\n",
              "      <td>2013.000000</td>\n",
              "    </tr>\n",
              "    <tr>\n",
              "      <th>75%</th>\n",
              "      <td>9.000000</td>\n",
              "      <td>2018.000000</td>\n",
              "    </tr>\n",
              "    <tr>\n",
              "      <th>max</th>\n",
              "      <td>58.000000</td>\n",
              "      <td>2022.000000</td>\n",
              "    </tr>\n",
              "  </tbody>\n",
              "</table>\n",
              "</div>\n",
              "      <button class=\"colab-df-convert\" onclick=\"convertToInteractive('df-6a8cc029-38ae-4fa9-9ac4-82846a98a4e5')\"\n",
              "              title=\"Convert this dataframe to an interactive table.\"\n",
              "              style=\"display:none;\">\n",
              "        \n",
              "  <svg xmlns=\"http://www.w3.org/2000/svg\" height=\"24px\"viewBox=\"0 0 24 24\"\n",
              "       width=\"24px\">\n",
              "    <path d=\"M0 0h24v24H0V0z\" fill=\"none\"/>\n",
              "    <path d=\"M18.56 5.44l.94 2.06.94-2.06 2.06-.94-2.06-.94-.94-2.06-.94 2.06-2.06.94zm-11 1L8.5 8.5l.94-2.06 2.06-.94-2.06-.94L8.5 2.5l-.94 2.06-2.06.94zm10 10l.94 2.06.94-2.06 2.06-.94-2.06-.94-.94-2.06-.94 2.06-2.06.94z\"/><path d=\"M17.41 7.96l-1.37-1.37c-.4-.4-.92-.59-1.43-.59-.52 0-1.04.2-1.43.59L10.3 9.45l-7.72 7.72c-.78.78-.78 2.05 0 2.83L4 21.41c.39.39.9.59 1.41.59.51 0 1.02-.2 1.41-.59l7.78-7.78 2.81-2.81c.8-.78.8-2.07 0-2.86zM5.41 20L4 18.59l7.72-7.72 1.47 1.35L5.41 20z\"/>\n",
              "  </svg>\n",
              "      </button>\n",
              "      \n",
              "  <style>\n",
              "    .colab-df-container {\n",
              "      display:flex;\n",
              "      flex-wrap:wrap;\n",
              "      gap: 12px;\n",
              "    }\n",
              "\n",
              "    .colab-df-convert {\n",
              "      background-color: #E8F0FE;\n",
              "      border: none;\n",
              "      border-radius: 50%;\n",
              "      cursor: pointer;\n",
              "      display: none;\n",
              "      fill: #1967D2;\n",
              "      height: 32px;\n",
              "      padding: 0 0 0 0;\n",
              "      width: 32px;\n",
              "    }\n",
              "\n",
              "    .colab-df-convert:hover {\n",
              "      background-color: #E2EBFA;\n",
              "      box-shadow: 0px 1px 2px rgba(60, 64, 67, 0.3), 0px 1px 3px 1px rgba(60, 64, 67, 0.15);\n",
              "      fill: #174EA6;\n",
              "    }\n",
              "\n",
              "    [theme=dark] .colab-df-convert {\n",
              "      background-color: #3B4455;\n",
              "      fill: #D2E3FC;\n",
              "    }\n",
              "\n",
              "    [theme=dark] .colab-df-convert:hover {\n",
              "      background-color: #434B5C;\n",
              "      box-shadow: 0px 1px 3px 1px rgba(0, 0, 0, 0.15);\n",
              "      filter: drop-shadow(0px 1px 2px rgba(0, 0, 0, 0.3));\n",
              "      fill: #FFFFFF;\n",
              "    }\n",
              "  </style>\n",
              "\n",
              "      <script>\n",
              "        const buttonEl =\n",
              "          document.querySelector('#df-6a8cc029-38ae-4fa9-9ac4-82846a98a4e5 button.colab-df-convert');\n",
              "        buttonEl.style.display =\n",
              "          google.colab.kernel.accessAllowed ? 'block' : 'none';\n",
              "\n",
              "        async function convertToInteractive(key) {\n",
              "          const element = document.querySelector('#df-6a8cc029-38ae-4fa9-9ac4-82846a98a4e5');\n",
              "          const dataTable =\n",
              "            await google.colab.kernel.invokeFunction('convertToInteractive',\n",
              "                                                     [key], {});\n",
              "          if (!dataTable) return;\n",
              "\n",
              "          const docLinkHtml = 'Like what you see? Visit the ' +\n",
              "            '<a target=\"_blank\" href=https://colab.research.google.com/notebooks/data_table.ipynb>data table notebook</a>'\n",
              "            + ' to learn more about interactive tables.';\n",
              "          element.innerHTML = '';\n",
              "          dataTable['output_type'] = 'display_data';\n",
              "          await google.colab.output.renderOutput(dataTable, element);\n",
              "          const docLink = document.createElement('div');\n",
              "          docLink.innerHTML = docLinkHtml;\n",
              "          element.appendChild(docLink);\n",
              "        }\n",
              "      </script>\n",
              "    </div>\n",
              "  </div>\n",
              "  "
            ]
          },
          "metadata": {},
          "execution_count": 14
        }
      ]
    },
    {
      "cell_type": "code",
      "source": [],
      "metadata": {
        "id": "SWfPfSRweOu5"
      },
      "execution_count": null,
      "outputs": []
    },
    {
      "cell_type": "code",
      "source": [],
      "metadata": {
        "id": "c04X-muSeSbB"
      },
      "execution_count": null,
      "outputs": []
    }
  ]
}